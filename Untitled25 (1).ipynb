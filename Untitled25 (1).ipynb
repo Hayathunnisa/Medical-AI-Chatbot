{
 "cells": [
  {
   "cell_type": "code",
   "execution_count": 1,
   "id": "7da73f36",
   "metadata": {},
   "outputs": [],
   "source": [
    "import numpy as np\n",
    "import pandas as pd\n",
    "import tensorflow as tf\n",
    "from sklearn.model_selection import train_test_split\n",
    "from transformers import AutoTokenizer, TFDistilBertForSequenceClassification, TextClassificationPipeline"
   ]
  },
  {
   "cell_type": "code",
   "execution_count": 2,
   "id": "a3cf221d",
   "metadata": {},
   "outputs": [
    {
     "data": {
      "text/html": [
       "<div>\n",
       "<style scoped>\n",
       "    .dataframe tbody tr th:only-of-type {\n",
       "        vertical-align: middle;\n",
       "    }\n",
       "\n",
       "    .dataframe tbody tr th {\n",
       "        vertical-align: top;\n",
       "    }\n",
       "\n",
       "    .dataframe thead th {\n",
       "        text-align: right;\n",
       "    }\n",
       "</style>\n",
       "<table border=\"1\" class=\"dataframe\">\n",
       "  <thead>\n",
       "    <tr style=\"text-align: right;\">\n",
       "      <th></th>\n",
       "      <th>Unnamed: 0</th>\n",
       "      <th>label</th>\n",
       "      <th>text</th>\n",
       "    </tr>\n",
       "  </thead>\n",
       "  <tbody>\n",
       "    <tr>\n",
       "      <th>0</th>\n",
       "      <td>0</td>\n",
       "      <td>Psoriasis</td>\n",
       "      <td>I have been experiencing a skin rash on my arm...</td>\n",
       "    </tr>\n",
       "    <tr>\n",
       "      <th>1</th>\n",
       "      <td>1</td>\n",
       "      <td>Psoriasis</td>\n",
       "      <td>My skin has been peeling, especially on my kne...</td>\n",
       "    </tr>\n",
       "    <tr>\n",
       "      <th>2</th>\n",
       "      <td>2</td>\n",
       "      <td>Psoriasis</td>\n",
       "      <td>I have been experiencing joint pain in my fing...</td>\n",
       "    </tr>\n",
       "    <tr>\n",
       "      <th>3</th>\n",
       "      <td>3</td>\n",
       "      <td>Psoriasis</td>\n",
       "      <td>There is a silver like dusting on my skin, esp...</td>\n",
       "    </tr>\n",
       "    <tr>\n",
       "      <th>4</th>\n",
       "      <td>4</td>\n",
       "      <td>Psoriasis</td>\n",
       "      <td>My nails have small dents or pits in them, and...</td>\n",
       "    </tr>\n",
       "    <tr>\n",
       "      <th>...</th>\n",
       "      <td>...</td>\n",
       "      <td>...</td>\n",
       "      <td>...</td>\n",
       "    </tr>\n",
       "    <tr>\n",
       "      <th>1195</th>\n",
       "      <td>295</td>\n",
       "      <td>diabetes</td>\n",
       "      <td>I'm shaking and trembling all over. I've lost ...</td>\n",
       "    </tr>\n",
       "    <tr>\n",
       "      <th>1196</th>\n",
       "      <td>296</td>\n",
       "      <td>diabetes</td>\n",
       "      <td>Particularly in the crevices of my skin, I hav...</td>\n",
       "    </tr>\n",
       "    <tr>\n",
       "      <th>1197</th>\n",
       "      <td>297</td>\n",
       "      <td>diabetes</td>\n",
       "      <td>I regularly experience these intense urges and...</td>\n",
       "    </tr>\n",
       "    <tr>\n",
       "      <th>1198</th>\n",
       "      <td>298</td>\n",
       "      <td>diabetes</td>\n",
       "      <td>I have trouble breathing, especially outside. ...</td>\n",
       "    </tr>\n",
       "    <tr>\n",
       "      <th>1199</th>\n",
       "      <td>299</td>\n",
       "      <td>diabetes</td>\n",
       "      <td>I constantly sneeze and have a dry cough. My i...</td>\n",
       "    </tr>\n",
       "  </tbody>\n",
       "</table>\n",
       "<p>1200 rows × 3 columns</p>\n",
       "</div>"
      ],
      "text/plain": [
       "      Unnamed: 0      label                                               text\n",
       "0              0  Psoriasis  I have been experiencing a skin rash on my arm...\n",
       "1              1  Psoriasis  My skin has been peeling, especially on my kne...\n",
       "2              2  Psoriasis  I have been experiencing joint pain in my fing...\n",
       "3              3  Psoriasis  There is a silver like dusting on my skin, esp...\n",
       "4              4  Psoriasis  My nails have small dents or pits in them, and...\n",
       "...          ...        ...                                                ...\n",
       "1195         295   diabetes  I'm shaking and trembling all over. I've lost ...\n",
       "1196         296   diabetes  Particularly in the crevices of my skin, I hav...\n",
       "1197         297   diabetes  I regularly experience these intense urges and...\n",
       "1198         298   diabetes  I have trouble breathing, especially outside. ...\n",
       "1199         299   diabetes  I constantly sneeze and have a dry cough. My i...\n",
       "\n",
       "[1200 rows x 3 columns]"
      ]
     },
     "execution_count": 2,
     "metadata": {},
     "output_type": "execute_result"
    }
   ],
   "source": [
    "df = pd.read_csv('Symptom2Disease.csv')\n",
    "df"
   ]
  },
  {
   "cell_type": "code",
   "execution_count": 3,
   "id": "27330b58",
   "metadata": {},
   "outputs": [],
   "source": [
    "int2label = {i: disease for i, disease in enumerate(df['label'].unique())}\n",
    "label2int = {v: k for k, v in int2label.items()}\n",
    "df['label'] = df['label'].map(lambda x: label2int[x])"
   ]
  },
  {
   "cell_type": "code",
   "execution_count": 4,
   "id": "bf613204",
   "metadata": {},
   "outputs": [],
   "source": [
    "X, y = df['text'].values, df['label'].values\n",
    "train_x, val_x, train_y, val_y = train_test_split(X, y, test_size=0.1, stratify=y)"
   ]
  },
  {
   "cell_type": "code",
   "execution_count": 5,
   "id": "fdee7268",
   "metadata": {},
   "outputs": [
    {
     "data": {
      "application/vnd.jupyter.widget-view+json": {
       "model_id": "e5e12b6ed050458a86a40d741bbbe617",
       "version_major": 2,
       "version_minor": 0
      },
      "text/plain": [
       "Downloading (…)okenizer_config.json:   0%|          | 0.00/28.0 [00:00<?, ?B/s]"
      ]
     },
     "metadata": {},
     "output_type": "display_data"
    },
    {
     "name": "stderr",
     "output_type": "stream",
     "text": [
      "C:\\Users\\ASUS TUF\\anaconda3\\Lib\\site-packages\\huggingface_hub\\file_download.py:133: UserWarning: `huggingface_hub` cache-system uses symlinks by default to efficiently store duplicated files but your machine does not support them in C:\\Users\\ASUS TUF\\.cache\\huggingface\\hub. Caching files will still work but in a degraded version that might require more space on your disk. This warning can be disabled by setting the `HF_HUB_DISABLE_SYMLINKS_WARNING` environment variable. For more details, see https://huggingface.co/docs/huggingface_hub/how-to-cache#limitations.\n",
      "To support symlinks on Windows, you either need to activate Developer Mode or to run Python as an administrator. In order to see activate developer mode, see this article: https://docs.microsoft.com/en-us/windows/apps/get-started/enable-your-device-for-development\n",
      "  warnings.warn(message)\n"
     ]
    },
    {
     "data": {
      "application/vnd.jupyter.widget-view+json": {
       "model_id": "071013f6d8694fb8947c7f92db27668c",
       "version_major": 2,
       "version_minor": 0
      },
      "text/plain": [
       "Downloading (…)lve/main/config.json:   0%|          | 0.00/483 [00:00<?, ?B/s]"
      ]
     },
     "metadata": {},
     "output_type": "display_data"
    },
    {
     "data": {
      "application/vnd.jupyter.widget-view+json": {
       "model_id": "ae758ac6316048b6a25bb1ed493ebd86",
       "version_major": 2,
       "version_minor": 0
      },
      "text/plain": [
       "Downloading (…)solve/main/vocab.txt:   0%|          | 0.00/232k [00:00<?, ?B/s]"
      ]
     },
     "metadata": {},
     "output_type": "display_data"
    },
    {
     "data": {
      "application/vnd.jupyter.widget-view+json": {
       "model_id": "f2ac0362653e40ab9c54b8122360ce65",
       "version_major": 2,
       "version_minor": 0
      },
      "text/plain": [
       "Downloading (…)/main/tokenizer.json:   0%|          | 0.00/466k [00:00<?, ?B/s]"
      ]
     },
     "metadata": {},
     "output_type": "display_data"
    }
   ],
   "source": [
    "tokenizer = AutoTokenizer.from_pretrained(\"distilbert-base-uncased\")\n",
    "train_encodings = tokenizer(list(train_x), padding=\"max_length\", truncation=True)\n",
    "val_encodings = tokenizer(list(val_x), padding=\"max_length\", truncation=True)"
   ]
  },
  {
   "cell_type": "code",
   "execution_count": 6,
   "id": "a90f7626",
   "metadata": {},
   "outputs": [],
   "source": [
    "BATCH_SIZE = 8\n",
    "train_dataset = tf.data.Dataset.from_tensor_slices((dict(train_encodings), train_y)).batch(BATCH_SIZE)\n",
    "val_dataset = tf.data.Dataset.from_tensor_slices((dict(val_encodings), val_y)).batch(BATCH_SIZE)"
   ]
  },
  {
   "cell_type": "code",
   "execution_count": 7,
   "id": "36a94dde",
   "metadata": {},
   "outputs": [
    {
     "data": {
      "application/vnd.jupyter.widget-view+json": {
       "model_id": "16c0fcebc24244bba916f7e4ff871449",
       "version_major": 2,
       "version_minor": 0
      },
      "text/plain": [
       "Downloading model.safetensors:   0%|          | 0.00/268M [00:00<?, ?B/s]"
      ]
     },
     "metadata": {},
     "output_type": "display_data"
    },
    {
     "name": "stderr",
     "output_type": "stream",
     "text": [
      "Some weights of the PyTorch model were not used when initializing the TF 2.0 model TFDistilBertForSequenceClassification: ['vocab_projector.bias', 'vocab_layer_norm.weight', 'vocab_layer_norm.bias', 'vocab_transform.bias', 'vocab_transform.weight']\n",
      "- This IS expected if you are initializing TFDistilBertForSequenceClassification from a PyTorch model trained on another task or with another architecture (e.g. initializing a TFBertForSequenceClassification model from a BertForPreTraining model).\n",
      "- This IS NOT expected if you are initializing TFDistilBertForSequenceClassification from a PyTorch model that you expect to be exactly identical (e.g. initializing a TFBertForSequenceClassification model from a BertForSequenceClassification model).\n",
      "Some weights or buffers of the TF 2.0 model TFDistilBertForSequenceClassification were not initialized from the PyTorch model and are newly initialized: ['pre_classifier.weight', 'pre_classifier.bias', 'classifier.weight', 'classifier.bias']\n",
      "You should probably TRAIN this model on a down-stream task to be able to use it for predictions and inference.\n"
     ]
    }
   ],
   "source": [
    "model = TFDistilBertForSequenceClassification.from_pretrained(\n",
    "    \"distilbert-base-uncased\",\n",
    "    num_labels=len(int2label)\n",
    ")\n",
    "\n",
    "model.compile(\n",
    "    loss=tf.keras.losses.SparseCategoricalCrossentropy(from_logits=True),\n",
    "    optimizer=tf.keras.optimizers.Adam(learning_rate=3e-5),\n",
    "    metrics=['accuracy']\n",
    ")"
   ]
  },
  {
   "cell_type": "code",
   "execution_count": null,
   "id": "97bd000b",
   "metadata": {},
   "outputs": [
    {
     "name": "stdout",
     "output_type": "stream",
     "text": [
      "Epoch 1/3\n",
      " 37/135 [=======>......................] - ETA: 17:16 - loss: 3.1505 - accuracy: 0.0845"
     ]
    }
   ],
   "source": [
    "EPOCHS = 3\n",
    "history = model.fit(train_dataset, epochs=EPOCHS, validation_data=val_dataset)\n",
    "\n",
    "# Predictions\n",
    "pipe = TextClassificationPipeline(model=model, tokenizer=tokenizer, top_k=len(int2label))"
   ]
  },
  {
   "cell_type": "code",
   "execution_count": null,
   "id": "1dd38e6c",
   "metadata": {},
   "outputs": [],
   "source": [
    "pred1 = pipe(\"I am experiencing rashes on my skin. It is itchy and is now swelling. Even my sking is starting to peel. \")\n",
    "pred2 = pipe(\"I have constipation and belly pain, and it's been really uncomfortable. The belly pain has been getting worse and is starting to affect my daily life. Moreover, I get chills every night, followed by a mild fever.\")\n",
    "pred3 = pipe(\"I'm sneezing and can't stop coughing. I have a mucus overflow and my sinuses are totally closed. I can't smell anything, and my chest hurts. My muscles are quite sore as well.\")\n",
    "pred4 = pipe(\"I've been cold and worn out, and I haven't been able to stop coughing. My chest hurts and my heart races when I do that. I'm coughing up horrible dark mucus.\")\n",
    "pred5 = pipe(\"I've also experienced chills, vomiting, and intense itching in addition to a high fever. Along with a headache and a lot of perspiration, I've also been experiencing nausea and muscle pain.\")\n",
    "pred6 = pipe(\"I have breathing issues and am easily out of breath. My eyes hurt, my face and body are bloated, and I have a dry, hacking cough.\")\n",
    "pred7 = pipe(\"My whole body is shaking and trembling. I can't smell or taste anymore, and I'm exhausted. My heart sometimes races or I have palpitations.\")\n",
    "pred8 = pipe(\"I often feel like food is getting caught in my throat and have problems swallowing. I feel bloated and frequently belch. I constantly have a bitter aftertaste.\")\n",
    "\n",
    "\n",
    "\n",
    "print(pred1[0][:1])\n",
    "print(pred2[0][:2])\n",
    "print(pred3[0][:1])\n",
    "print(pred4[0][:1])\n",
    "print(pred5[0][:1])\n",
    "print(pred6[0][:1])\n",
    "print(pred7[0][:1])\n",
    "print(pred8[0][:1])"
   ]
  },
  {
   "cell_type": "code",
   "execution_count": null,
   "id": "3b1ce869",
   "metadata": {},
   "outputs": [],
   "source": []
  }
 ],
 "metadata": {
  "kernelspec": {
   "display_name": "Python 3 (ipykernel)",
   "language": "python",
   "name": "python3"
  },
  "language_info": {
   "codemirror_mode": {
    "name": "ipython",
    "version": 3
   },
   "file_extension": ".py",
   "mimetype": "text/x-python",
   "name": "python",
   "nbconvert_exporter": "python",
   "pygments_lexer": "ipython3",
   "version": "3.11.5"
  }
 },
 "nbformat": 4,
 "nbformat_minor": 5
}
